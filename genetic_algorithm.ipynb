{
 "cells": [
  {
   "cell_type": "code",
   "execution_count": 12,
   "id": "1676ada0",
   "metadata": {},
   "outputs": [],
   "source": [
    "import numpy as np\n",
    "import pygad\n",
    "import time\n",
    "import matplotlib.pyplot as plt"
   ]
  },
  {
   "cell_type": "code",
   "execution_count": null,
   "id": "f1bcfa2a",
   "metadata": {},
   "outputs": [],
   "source": [
    "# Example: 20 cities with random coordinates\n",
    "num_cities = 20\n",
    "np.random.seed(42)\n",
    "city_coords = np.random.rand(num_cities, 2) * 100  \n",
    "\n",
    "# Distance matrix\n",
    "dist_matrix = np.sqrt(((city_coords[:, None, :] - city_coords[None, :, :])**2).sum(axis=2))"
   ]
  },
  {
   "cell_type": "code",
   "execution_count": null,
   "id": "50fb882f",
   "metadata": {},
   "outputs": [],
   "source": [
    "# Fitness function = negative tour length (since GA maximizes)\n",
    "def fitness_func(ga, solution, sol_idx):\n",
    "    tour_length = 0\n",
    "    for i in range(len(solution) - 1):\n",
    "        tour_length += dist_matrix[int(solution[i]), int(solution[i+1])]\n",
    "    # Return to start\n",
    "    tour_length += dist_matrix[int(solution[-1]), int(solution[0])]\n",
    "    return -tour_length\n"
   ]
  },
  {
   "cell_type": "code",
   "execution_count": 15,
   "id": "b654220b",
   "metadata": {},
   "outputs": [],
   "source": [
    "# Gene space = indices of cities\n",
    "gene_space = list(range(num_cities))"
   ]
  },
  {
   "cell_type": "code",
   "execution_count": 16,
   "id": "ec91ed0a",
   "metadata": {},
   "outputs": [
    {
     "name": "stderr",
     "output_type": "stream",
     "text": [
      "In PyGAD 2.20.0, the fitness function must accept 3 parameters:\n",
      "1) The instance of the 'pygad.GA' class.\n",
      "2) A solution to calculate its fitness value.\n",
      "3) The solution's index within the population.\n",
      "\n",
      "The passed fitness function named 'fitness_func' accepts 1 parameter(s).\n",
      "Traceback (most recent call last):\n",
      "  File \"/Users/ratchanonkhongsawi/anaconda3/envs/bio/lib/python3.12/site-packages/pygad/pygad.py\", line 960, in __init__\n",
      "    raise ValueError(f\"In PyGAD 2.20.0, the fitness function must accept 3 parameters:\\n1) The instance of the 'pygad.GA' class.\\n2) A solution to calculate its fitness value.\\n3) The solution's index within the population.\\n\\nThe passed fitness function named '{fitness_func.__code__.co_name}' accepts {fitness_func.__code__.co_argcount} parameter(s).\")\n",
      "ValueError: In PyGAD 2.20.0, the fitness function must accept 3 parameters:\n",
      "1) The instance of the 'pygad.GA' class.\n",
      "2) A solution to calculate its fitness value.\n",
      "3) The solution's index within the population.\n",
      "\n",
      "The passed fitness function named 'fitness_func' accepts 1 parameter(s).\n"
     ]
    },
    {
     "ename": "ValueError",
     "evalue": "In PyGAD 2.20.0, the fitness function must accept 3 parameters:\n1) The instance of the 'pygad.GA' class.\n2) A solution to calculate its fitness value.\n3) The solution's index within the population.\n\nThe passed fitness function named 'fitness_func' accepts 1 parameter(s).",
     "output_type": "error",
     "traceback": [
      "\u001b[31m---------------------------------------------------------------------------\u001b[39m",
      "\u001b[31mValueError\u001b[39m                                Traceback (most recent call last)",
      "\u001b[36mCell\u001b[39m\u001b[36m \u001b[39m\u001b[32mIn[16]\u001b[39m\u001b[32m, line 1\u001b[39m\n\u001b[32m----> \u001b[39m\u001b[32m1\u001b[39m ga = \u001b[43mpygad\u001b[49m\u001b[43m.\u001b[49m\u001b[43mGA\u001b[49m\u001b[43m(\u001b[49m\n\u001b[32m      2\u001b[39m \u001b[43m    \u001b[49m\u001b[43mnum_generations\u001b[49m\u001b[43m    \u001b[49m\u001b[43m=\u001b[49m\u001b[43m \u001b[49m\u001b[32;43m1000\u001b[39;49m\u001b[43m,\u001b[49m\n\u001b[32m      3\u001b[39m \u001b[43m    \u001b[49m\u001b[43mnum_parents_mating\u001b[49m\u001b[43m \u001b[49m\u001b[43m=\u001b[49m\u001b[43m \u001b[49m\u001b[32;43m20\u001b[39;49m\u001b[43m,\u001b[49m\n\u001b[32m      4\u001b[39m \u001b[43m    \u001b[49m\u001b[43mfitness_func\u001b[49m\u001b[43m       \u001b[49m\u001b[43m=\u001b[49m\u001b[43m \u001b[49m\u001b[43mfitness_func\u001b[49m\u001b[43m,\u001b[49m\n\u001b[32m      5\u001b[39m \u001b[43m    \u001b[49m\u001b[43msol_per_pop\u001b[49m\u001b[43m        \u001b[49m\u001b[43m=\u001b[49m\u001b[43m \u001b[49m\u001b[32;43m50\u001b[39;49m\u001b[43m,\u001b[49m\n\u001b[32m      6\u001b[39m \u001b[43m    \u001b[49m\u001b[43mnum_genes\u001b[49m\u001b[43m          \u001b[49m\u001b[43m=\u001b[49m\u001b[43m \u001b[49m\u001b[43mnum_cities\u001b[49m\u001b[43m,\u001b[49m\n\u001b[32m      7\u001b[39m \u001b[43m    \u001b[49m\u001b[43mgene_space\u001b[49m\u001b[43m         \u001b[49m\u001b[43m=\u001b[49m\u001b[43m \u001b[49m\u001b[43mgene_space\u001b[49m\u001b[43m,\u001b[49m\n\u001b[32m      8\u001b[39m \u001b[43m    \u001b[49m\u001b[43mparent_selection_type\u001b[49m\u001b[43m   \u001b[49m\u001b[43m=\u001b[49m\u001b[43m \u001b[49m\u001b[33;43m\"\u001b[39;49m\u001b[33;43mtournament\u001b[39;49m\u001b[33;43m\"\u001b[39;49m\u001b[43m,\u001b[49m\n\u001b[32m      9\u001b[39m \u001b[43m    \u001b[49m\u001b[43mkeep_parents\u001b[49m\u001b[43m           \u001b[49m\u001b[43m=\u001b[49m\u001b[43m \u001b[49m\u001b[32;43m5\u001b[39;49m\u001b[43m,\u001b[49m\n\u001b[32m     10\u001b[39m \u001b[43m    \u001b[49m\u001b[43mcrossover_type\u001b[49m\u001b[43m         \u001b[49m\u001b[43m=\u001b[49m\u001b[43m \u001b[49m\u001b[33;43m\"\u001b[39;49m\u001b[33;43msingle_point\u001b[39;49m\u001b[33;43m\"\u001b[39;49m\u001b[43m,\u001b[49m\n\u001b[32m     11\u001b[39m \u001b[43m    \u001b[49m\u001b[43mmutation_type\u001b[49m\u001b[43m          \u001b[49m\u001b[43m=\u001b[49m\u001b[43m \u001b[49m\u001b[33;43m\"\u001b[39;49m\u001b[33;43mrandom\u001b[39;49m\u001b[33;43m\"\u001b[39;49m\u001b[43m,\u001b[49m\n\u001b[32m     12\u001b[39m \u001b[43m    \u001b[49m\u001b[43mmutation_percent_genes\u001b[49m\u001b[43m \u001b[49m\u001b[43m=\u001b[49m\u001b[43m \u001b[49m\u001b[32;43m20\u001b[39;49m\u001b[43m,\u001b[49m\n\u001b[32m     13\u001b[39m \u001b[43m    \u001b[49m\u001b[43mallow_duplicate_genes\u001b[49m\u001b[43m  \u001b[49m\u001b[43m=\u001b[49m\u001b[43m \u001b[49m\u001b[38;5;28;43;01mFalse\u001b[39;49;00m\u001b[43m  \u001b[49m\u001b[38;5;66;43;03m# Important for permutations!\u001b[39;49;00m\n\u001b[32m     14\u001b[39m \u001b[43m)\u001b[49m\n",
      "\u001b[36mFile \u001b[39m\u001b[32m~/anaconda3/envs/bio/lib/python3.12/site-packages/pygad/pygad.py:1339\u001b[39m, in \u001b[36mGA.__init__\u001b[39m\u001b[34m(self, num_generations, num_parents_mating, fitness_func, fitness_batch_size, initial_population, sol_per_pop, num_genes, init_range_low, init_range_high, gene_type, parent_selection_type, keep_parents, keep_elitism, K_tournament, crossover_type, crossover_probability, mutation_type, mutation_probability, mutation_by_replacement, mutation_percent_genes, mutation_num_genes, random_mutation_min_val, random_mutation_max_val, gene_space, gene_constraint, sample_size, allow_duplicate_genes, on_start, on_fitness, on_parents, on_crossover, on_mutation, on_generation, on_stop, save_best_solutions, save_solutions, suppress_warnings, stop_criteria, parallel_processing, random_seed, logger)\u001b[39m\n\u001b[32m   1337\u001b[39m \u001b[38;5;28mself\u001b[39m.logger.exception(e)\n\u001b[32m   1338\u001b[39m \u001b[38;5;66;03m# sys.exit(-1)\u001b[39;00m\n\u001b[32m-> \u001b[39m\u001b[32m1339\u001b[39m \u001b[38;5;28;01mraise\u001b[39;00m e\n",
      "\u001b[36mFile \u001b[39m\u001b[32m~/anaconda3/envs/bio/lib/python3.12/site-packages/pygad/pygad.py:960\u001b[39m, in \u001b[36mGA.__init__\u001b[39m\u001b[34m(self, num_generations, num_parents_mating, fitness_func, fitness_batch_size, initial_population, sol_per_pop, num_genes, init_range_low, init_range_high, gene_type, parent_selection_type, keep_parents, keep_elitism, K_tournament, crossover_type, crossover_probability, mutation_type, mutation_probability, mutation_by_replacement, mutation_percent_genes, mutation_num_genes, random_mutation_min_val, random_mutation_max_val, gene_space, gene_constraint, sample_size, allow_duplicate_genes, on_start, on_fitness, on_parents, on_crossover, on_mutation, on_generation, on_stop, save_best_solutions, save_solutions, suppress_warnings, stop_criteria, parallel_processing, random_seed, logger)\u001b[39m\n\u001b[32m    958\u001b[39m     \u001b[38;5;28;01melse\u001b[39;00m:\n\u001b[32m    959\u001b[39m         \u001b[38;5;28mself\u001b[39m.valid_parameters = \u001b[38;5;28;01mFalse\u001b[39;00m\n\u001b[32m--> \u001b[39m\u001b[32m960\u001b[39m         \u001b[38;5;28;01mraise\u001b[39;00m \u001b[38;5;167;01mValueError\u001b[39;00m(\u001b[33mf\u001b[39m\u001b[33m\"\u001b[39m\u001b[33mIn PyGAD 2.20.0, the fitness function must accept 3 parameters:\u001b[39m\u001b[38;5;130;01m\\n\u001b[39;00m\u001b[33m1) The instance of the \u001b[39m\u001b[33m'\u001b[39m\u001b[33mpygad.GA\u001b[39m\u001b[33m'\u001b[39m\u001b[33m class.\u001b[39m\u001b[38;5;130;01m\\n\u001b[39;00m\u001b[33m2) A solution to calculate its fitness value.\u001b[39m\u001b[38;5;130;01m\\n\u001b[39;00m\u001b[33m3) The solution\u001b[39m\u001b[33m'\u001b[39m\u001b[33ms index within the population.\u001b[39m\u001b[38;5;130;01m\\n\u001b[39;00m\u001b[38;5;130;01m\\n\u001b[39;00m\u001b[33mThe passed fitness function named \u001b[39m\u001b[33m'\u001b[39m\u001b[38;5;132;01m{\u001b[39;00mfitness_func.\u001b[34m__code__\u001b[39m.co_name\u001b[38;5;132;01m}\u001b[39;00m\u001b[33m'\u001b[39m\u001b[33m accepts \u001b[39m\u001b[38;5;132;01m{\u001b[39;00mfitness_func.\u001b[34m__code__\u001b[39m.co_argcount\u001b[38;5;132;01m}\u001b[39;00m\u001b[33m parameter(s).\u001b[39m\u001b[33m\"\u001b[39m)\n\u001b[32m    961\u001b[39m \u001b[38;5;28;01melse\u001b[39;00m:\n\u001b[32m    962\u001b[39m     \u001b[38;5;28mself\u001b[39m.valid_parameters = \u001b[38;5;28;01mFalse\u001b[39;00m\n",
      "\u001b[31mValueError\u001b[39m: In PyGAD 2.20.0, the fitness function must accept 3 parameters:\n1) The instance of the 'pygad.GA' class.\n2) A solution to calculate its fitness value.\n3) The solution's index within the population.\n\nThe passed fitness function named 'fitness_func' accepts 1 parameter(s)."
     ]
    }
   ],
   "source": [
    "ga = pygad.GA(\n",
    "    num_generations    = 1000,\n",
    "    num_parents_mating = 20,\n",
    "    fitness_func       = fitness_func,\n",
    "    sol_per_pop        = 50,\n",
    "    num_genes          = num_cities,\n",
    "    gene_space         = gene_space,\n",
    "    parent_selection_type   = \"tournament\",\n",
    "    keep_parents           = 5,\n",
    "    crossover_type         = \"single_point\",\n",
    "    mutation_type          = \"random\",\n",
    "    mutation_percent_genes = 20,\n",
    "    allow_duplicate_genes  = False  # Important for permutations!\n",
    ")"
   ]
  },
  {
   "cell_type": "code",
   "execution_count": null,
   "id": "0cd523df",
   "metadata": {},
   "outputs": [
    {
     "name": "stdout",
     "output_type": "stream",
     "text": [
      "Time Passed: 4.167559 seconds\n",
      "Best Tour Cost: 658.205067\n",
      "Best Tour Order: [ 7.  8. 18.  0.  3.  6.  4. 12. 10. 16. 15.  2.  1. 14. 13. 17. 11.  5.\n",
      "  9. 19.]\n",
      "Iterations: 2000\n"
     ]
    }
   ],
   "source": [
    "start = time.time()\n",
    "ga.run()\n",
    "elapsed = time.time() - start\n",
    "\n",
    "best_solution, best_fitness, _ = ga.best_solution()\n",
    "best_cost = -best_fitness\n",
    "iterations = ga.generations_completed\n",
    "\n",
    "print(f\"Time Passed: {elapsed:.6f} seconds\")\n",
    "print(f\"Best Tour Cost: {best_cost:.6f}\")\n",
    "print(f\"Best Tour Order: {best_solution}\")\n",
    "print(f\"Iterations: {iterations}\")"
   ]
  },
  {
   "cell_type": "code",
   "execution_count": null,
   "id": "923aa0c6",
   "metadata": {},
   "outputs": [],
   "source": [
    "\n",
    "# ---- Plot the best tour ----\n",
    "ordered_coords = city_coords[best_solution]\n",
    "# Add the return to start\n",
    "ordered_coords = np.vstack([ordered_coords, ordered_coords[0]])\n",
    "\n",
    "plt.figure(figsize=(8, 6))\n",
    "plt.plot(ordered_coords[:, 0], ordered_coords[:, 1], '-o', color=\"blue\", markersize=8)\n",
    "plt.scatter(city_coords[:, 0], city_coords[:, 1], c=\"red\", s=50, label=\"Cities\")\n",
    "for idx, (x, y) in enumerate(city_coords):\n",
    "    plt.text(x+1, y+1, str(idx), fontsize=9)\n",
    "\n",
    "plt.title(f\"TSP Best Route (Cost = {best_cost:.2f})\")\n",
    "plt.xlabel(\"X\")\n",
    "plt.ylabel(\"Y\")\n",
    "plt.legend()\n",
    "plt.grid(True)\n",
    "plt.show()\n"
   ]
  }
 ],
 "metadata": {
  "kernelspec": {
   "display_name": "bio",
   "language": "python",
   "name": "python3"
  },
  "language_info": {
   "codemirror_mode": {
    "name": "ipython",
    "version": 3
   },
   "file_extension": ".py",
   "mimetype": "text/x-python",
   "name": "python",
   "nbconvert_exporter": "python",
   "pygments_lexer": "ipython3",
   "version": "3.12.11"
  }
 },
 "nbformat": 4,
 "nbformat_minor": 5
}
